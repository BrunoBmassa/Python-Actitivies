{
  "nbformat": 4,
  "nbformat_minor": 0,
  "metadata": {
    "colab": {
      "provenance": [],
      "authorship_tag": "ABX9TyN2fKP9VWrlGhzGxfFpBONP",
      "include_colab_link": true
    },
    "kernelspec": {
      "name": "python3",
      "display_name": "Python 3"
    },
    "language_info": {
      "name": "python"
    }
  },
  "cells": [
    {
      "cell_type": "markdown",
      "metadata": {
        "id": "view-in-github",
        "colab_type": "text"
      },
      "source": [
        "<a href=\"https://colab.research.google.com/github/BrunoBmassa/Python-Actitivies/blob/main/agregacao.ipynb\" target=\"_parent\"><img src=\"https://colab.research.google.com/assets/colab-badge.svg\" alt=\"Open In Colab\"/></a>"
      ]
    },
    {
      "cell_type": "code",
      "source": [
        "!pip install pyspark"
      ],
      "metadata": {
        "id": "HRwi7sRs-cOF"
      },
      "execution_count": null,
      "outputs": []
    },
    {
      "cell_type": "code",
      "source": [
        "import pyspark\n",
        "import gdown\n",
        "from pyspark.sql.window import Window\n",
        "from pyspark.sql import SparkSession\n",
        "from pyspark.sql.functions import avg, var_pop, format_number, min, max, first, last, count, count_distinct, asc, sum, col"
      ],
      "metadata": {
        "id": "3PBbQ-62-cEm"
      },
      "execution_count": 71,
      "outputs": []
    },
    {
      "cell_type": "code",
      "source": [
        "spark= SparkSession.builder.getOrCreate()"
      ],
      "metadata": {
        "id": "aDtOXHxn-hwe"
      },
      "execution_count": 65,
      "outputs": []
    },
    {
      "cell_type": "code",
      "execution_count": null,
      "metadata": {
        "id": "iFCLszW78uHm"
      },
      "outputs": [],
      "source": [
        "#Leia o arquivo 'videos-preparados.snappy.parquet' no dataframe 'df_video'\n",
        "\n",
        "df_video_url='https://drive.google.com/file/d/1A1iKcyCfaa0ObhTVN-3EfhiALnB0aCN0/view?usp=drive_link'\n",
        "# Extração do arquivo pela URL\n",
        "file_id = df_video_url.split('/')[-2]\n",
        "# Download do arquivo\n",
        "output_file = 'videos-preparados.snappy.parquet'\n",
        "gdown.download(id=file_id, output=output_file, quiet=False)\n",
        "#Leitura do arquivo inferindo o esquema\n",
        "df_video = spark.read.parquet(output_file)\n"
      ]
    },
    {
      "cell_type": "code",
      "source": [
        "#Calcule a quantidade de registros para cada valor único da coluna \"Keyword\"\n",
        "\n",
        "df_video.groupBy(\"Keyword\").count().show()"
      ],
      "metadata": {
        "id": "Kcu8JqYW-yQQ"
      },
      "execution_count": null,
      "outputs": []
    },
    {
      "cell_type": "code",
      "source": [
        "#Calcule a média da coluna \"Interaction\" para cada valor único da coluna 'Keyword'\n",
        "\n",
        "df_video.groupBy(\"Keyword\").avg(\"Interaction\").show()\n"
      ],
      "metadata": {
        "collapsed": true,
        "id": "JB0R785jPahe"
      },
      "execution_count": null,
      "outputs": []
    },
    {
      "cell_type": "code",
      "source": [
        "#Calcule o valor máximo da coluna \"Interaction\" para cada valor único da coluna 'Keyword' e nomeie de 'Rank Interactions', em seguida ordene pela nova coluna em ordem decrescente\n",
        "\n",
        "df_video.groupBy(\"Keyword\").max(\"Interaction\").withColumnRenamed(\"max(Interaction)\", \"Rank Interactions\").orderBy(\"Rank Interactions\", ascending=False).show()\n"
      ],
      "metadata": {
        "id": "bNu_FZ9MQFdC"
      },
      "execution_count": null,
      "outputs": []
    },
    {
      "cell_type": "code",
      "source": [
        "#Calcule a média e a variância da coluna 'Views' para cada valor único da coluna 'Keyword'\n",
        "\n",
        "df_video.groupBy(\"Keyword\").agg(avg(\"Views\"), var_pop(\"Views\")).show()\n"
      ],
      "metadata": {
        "id": "biZhfEHUStHf"
      },
      "execution_count": null,
      "outputs": []
    },
    {
      "cell_type": "code",
      "source": [
        "#Calcule a média, o valor mínimo e o valor máximo de 'Views' para cada valor único da coluna 'Keyword', sem casas decimais\n",
        "\n",
        "df_video.groupBy(\"Keyword\").agg(\n",
        "    format_number(avg(\"Views\"), 2).alias(\"avg_views\"),\n",
        "    format_number(min(\"Views\"), 2).alias(\"min_views\"),\n",
        "    format_number(max(\"Views\"), 2).alias(\"max_views\")\n",
        ").show()\n"
      ],
      "metadata": {
        "id": "LOKkpVJ7QZIC"
      },
      "execution_count": null,
      "outputs": []
    },
    {
      "cell_type": "code",
      "source": [
        "#Mostre o primeiro e o último 'Published At' para cada valor único da coluna 'Keyword'\n",
        "\n",
        "df_video.groupBy(\"Keyword\").agg(first(\"Published At\"), last(\"Published At\")).show()"
      ],
      "metadata": {
        "id": "OBxZ71uiUJCa"
      },
      "execution_count": null,
      "outputs": []
    },
    {
      "cell_type": "code",
      "source": [
        "#Conte todos os 'title' de forma normal e todos os únicos e verifique se há diferença\n",
        "\n",
        "df_video.groupBy(\"title\").agg(\n",
        "      count(\"title\").alias(\"Contagem normal\"),\n",
        "      count_distinct(\"title\").alias(\"Contagem unicos\")\n",
        "      ).show()\n"
      ],
      "metadata": {
        "id": "jYH86S4tWvnd"
      },
      "execution_count": null,
      "outputs": []
    },
    {
      "cell_type": "code",
      "source": [
        "#Mostre a quantidade de registros ordenados por ano em ordem ascendente\n",
        "\n",
        "df_video.groupBy(df_video[\"Published At\"].substr(1, 4).alias(\"Ano\")).count().orderBy(\"Ano\").show()\n"
      ],
      "metadata": {
        "id": "5T_nhUy1bE0S"
      },
      "execution_count": null,
      "outputs": []
    },
    {
      "cell_type": "code",
      "source": [
        "#Mostre a quantidade de registros ordenados por ano e mês em ordem ascendente\n",
        "\n",
        "df_video.groupBy(df_video[\"Published At\"].substr(1, 4).alias(\"Ano\"),\n",
        "                 df_video[\"Published At\"].substr(6, 2).alias(\"Mes\")).count().orderBy(\"Ano\", \"Mes\").show()"
      ],
      "metadata": {
        "id": "ODejwhi2cuq9"
      },
      "execution_count": null,
      "outputs": []
    },
    {
      "cell_type": "code",
      "source": [
        "#Calcule a média acumulativa de ‘Likes’ para cada ‘Keyword’ ao longo dos anos\n",
        "\n",
        "df_video = df_video.withColumn(\"Ano\", df_video[\"Published At\"].substr(1, 4))\n",
        "window_spec = Window.partitionBy(\"Keyword\").orderBy(\"Ano\").rowsBetween(Window.unboundedPreceding, Window.currentRow)\n",
        "df_video = df_video.withColumn(\"Media Acumulada Likes\", format_number(avg(\"Likes\").over(window_spec), 0))\n",
        "df_video.show()\n"
      ],
      "metadata": {
        "id": "p1EW7zp2c_vt"
      },
      "execution_count": null,
      "outputs": []
    }
  ]
}