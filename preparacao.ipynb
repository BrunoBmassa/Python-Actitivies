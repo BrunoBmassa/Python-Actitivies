{
  "nbformat": 4,
  "nbformat_minor": 0,
  "metadata": {
    "colab": {
      "provenance": [],
      "authorship_tag": "ABX9TyOuY+B1oBP8W3rorGg+jp+W",
      "include_colab_link": true
    },
    "kernelspec": {
      "name": "python3",
      "display_name": "Python 3"
    },
    "language_info": {
      "name": "python"
    }
  },
  "cells": [
    {
      "cell_type": "markdown",
      "metadata": {
        "id": "view-in-github",
        "colab_type": "text"
      },
      "source": [
        "<a href=\"https://colab.research.google.com/github/BrunoBmassa/Python-Actitivies/blob/main/preparacao.ipynb\" target=\"_parent\"><img src=\"https://colab.research.google.com/assets/colab-badge.svg\" alt=\"Open In Colab\"/></a>"
      ]
    },
    {
      "cell_type": "code",
      "source": [
        "!pip install pyspark"
      ],
      "metadata": {
        "collapsed": true,
        "id": "Yg5aJPhUDysc"
      },
      "execution_count": null,
      "outputs": []
    },
    {
      "cell_type": "code",
      "source": [
        "import pyspark\n",
        "import gdown\n",
        "from pyspark.sql import SparkSession\n",
        "from pyspark.sql.functions import when, col, date_format\n",
        "from pyspark.ml.feature import StringIndexer, VectorAssembler, PCA, MinMaxScaler\n",
        "from pyspark.ml.regression import LinearRegression\n",
        "from pyspark.sql.types import IntegerType\n",
        "from datetime import date\n",
        "from os.path import join"
      ],
      "metadata": {
        "id": "n9jZrhK2D408"
      },
      "execution_count": 111,
      "outputs": []
    },
    {
      "cell_type": "code",
      "source": [
        "spark= SparkSession.builder.getOrCreate()\n"
      ],
      "metadata": {
        "id": "UYh4FF9GD8gV"
      },
      "execution_count": 112,
      "outputs": []
    },
    {
      "cell_type": "code",
      "execution_count": 113,
      "metadata": {
        "colab": {
          "base_uri": "https://localhost:8080/"
        },
        "collapsed": true,
        "id": "LeLZTyOi9d9W",
        "outputId": "ad61eebc-97e5-47b5-911b-705e1c7a04b8"
      },
      "outputs": [
        {
          "output_type": "stream",
          "name": "stderr",
          "text": [
            "Downloading...\n",
            "From: https://drive.google.com/uc?id=1nfM60gLkNeR_sMPQC8O3fvySdovEbrlt\n",
            "To: /content/videos-tratados.snappy.parquet.csv\n",
            "100%|██████████| 1.99M/1.99M [00:00<00:00, 42.4MB/s]\n"
          ]
        }
      ],
      "source": [
        "#Leia o arquivo ‘videos-tratados.snappy.parquet' no dataframe 'df_video'\n",
        "\n",
        "df_video_url='https://drive.google.com/file/d/1nfM60gLkNeR_sMPQC8O3fvySdovEbrlt/view?usp=drive_link'\n",
        "# Extração do arquivo pela URL\n",
        "file_id = df_video_url.split('/')[-2]\n",
        "# Download do arquivo\n",
        "output_file = 'videos-tratados.snappy.parquet.csv'\n",
        "gdown.download(id=file_id, output=output_file, quiet=False)\n",
        "#Leitura do arquivo inferindo o esquema\n",
        "df_video = spark.read.parquet(output_file)\n",
        "\n"
      ]
    },
    {
      "cell_type": "code",
      "source": [
        "#Adicione a coluna 'Month' com o valor do mês da coluna \"Published At\"\n",
        "\n",
        "df_video = df_video.withColumn('Month', date_format(col('Published At'), 'MM').cast('int')) #Ajustado de 'mmmm' para 'mm' e colocado como inteiro"
      ],
      "metadata": {
        "collapsed": true,
        "id": "49CZTU8KEszi"
      },
      "execution_count": 115,
      "outputs": []
    },
    {
      "cell_type": "code",
      "source": [
        "#Adicione a coluna \"Keyword Index\" com a transformação da coluna 'keyword' para valores numéricos\n",
        "\n",
        "indexer = StringIndexer(inputCol='Keyword', outputCol='Keyword Index')\n",
        "df_video = indexer.fit(df_video).transform(df_video)"
      ],
      "metadata": {
        "id": "oSLGyvclgaik"
      },
      "execution_count": 116,
      "outputs": []
    },
    {
      "cell_type": "code",
      "source": [
        "#Crie um vetor chamado \"Features\" com os campos: \"Likes\", \"Views\", \"Year\", \"Month\", \"Keyword Index\" e transforme o dataframe df_video com o VectorAssembler, lembrando que o vetor só aceita campos do tipo numérico\n",
        "\n",
        "df_video = df_video.withColumn(\"Year\", df_video[\"Year\"].cast(IntegerType())) ## Convertido para inteiro\n",
        "df_video = df_video.na.drop()\n",
        "montar_vetor = VectorAssembler(inputCols=['Likes', 'Views', 'Year', 'Month', 'Keyword Index'],\n",
        "                               outputCol='Features')\n",
        "df_video = montar_vetor.transform(df_video)\n",
        "\n",
        ""
      ],
      "metadata": {
        "id": "iuMqCEgpXAXv"
      },
      "execution_count": 117,
      "outputs": []
    },
    {
      "cell_type": "code",
      "source": [
        "#Adicione a coluna \"Features Normal\" com os dados normalizados da coluna Features, lembrando que para normalizar a coluna não pode conter valores nulos\n",
        "\n",
        "df_video = df_video.na.drop()\n",
        "\n",
        "scaler= MinMaxScaler(inputCol='Features', outputCol='Features Normal')\n",
        "modelo_scaler = scaler.fit(df_video)\n",
        "df_video = modelo_scaler.transform(df_video)\n"
      ],
      "metadata": {
        "id": "eiuScdFPgng0"
      },
      "execution_count": 118,
      "outputs": []
    },
    {
      "cell_type": "code",
      "source": [
        "#Adicione a coluna \"Features PCA\" com a redução de 5 características para 1, utilizando o modelo PCA\n",
        "\n",
        "pca = PCA(k=1, inputCol='Features Normal', outputCol='Features PCA')\n",
        "modelo_pca = pca.fit(df_video)\n",
        "df_video = modelo_pca.transform(df_video)\n"
      ],
      "metadata": {
        "id": "PkvN689Zg3Tt"
      },
      "execution_count": 119,
      "outputs": []
    },
    {
      "cell_type": "code",
      "source": [
        "#Separe o dataframe df_video em 2 conjuntos: 80% para treinamento e 20% para teste\n",
        "\n",
        "df_treino, df_teste = df_video.randomSplit([0.8, 0.2], seed=42)\n"
      ],
      "metadata": {
        "collapsed": true,
        "id": "3fese278iWa7"
      },
      "execution_count": 120,
      "outputs": []
    },
    {
      "cell_type": "code",
      "source": [
        "#Crie um modelo de regressão linear para estimar o valor do campo \"Comments\", utilizando a \"Features Normal\" e avalie o modelo\n",
        "\n",
        "regressão_linear = LinearRegression(featuresCol='Features Normal', labelCol='Comments')\n",
        "modelo_rl = regressão_linear.fit(df_treino)\n",
        "\n",
        "avaliacao_rl = modelo_rl.evaluate(df_teste)\n",
        "print(\"RMSE(Erro quadrático médio da raiz):\", avaliacao_rl.rootMeanSquaredError)\n",
        "print(\"R2(Coeficiente de determinação):\", avaliacao_rl.r2)\n"
      ],
      "metadata": {
        "colab": {
          "base_uri": "https://localhost:8080/"
        },
        "id": "ai3HK_B4jaJh",
        "outputId": "23683477-be75-47d5-cde7-ae7f88b9906d"
      },
      "execution_count": 121,
      "outputs": [
        {
          "output_type": "stream",
          "name": "stdout",
          "text": [
            "RMSE(Erro quadrático médio da raiz): 15696.328970507317\n",
            "R2(Coeficiente de determinação): 0.8423252962415371\n"
          ]
        }
      ]
    },
    {
      "cell_type": "code",
      "source": [
        "#Salve o dataframe df_video como 'videos-preparados-parquet' no formato parquet\n",
        "\n",
        "df_video.write.option('header','true').mode(\"overwrite\").parquet('videos-preparados-parquet')\n"
      ],
      "metadata": {
        "id": "5_Rm7Qw-oJ1U"
      },
      "execution_count": 122,
      "outputs": []
    }
  ]
}