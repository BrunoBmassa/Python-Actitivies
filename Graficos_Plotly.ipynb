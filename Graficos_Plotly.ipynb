{
  "nbformat": 4,
  "nbformat_minor": 0,
  "metadata": {
    "colab": {
      "provenance": [],
      "authorship_tag": "ABX9TyOstNamGMNBtW5Xw0Yt0m23",
      "include_colab_link": true
    },
    "kernelspec": {
      "name": "python3",
      "display_name": "Python 3"
    },
    "language_info": {
      "name": "python"
    }
  },
  "cells": [
    {
      "cell_type": "markdown",
      "metadata": {
        "id": "view-in-github",
        "colab_type": "text"
      },
      "source": [
        "<a href=\"https://colab.research.google.com/github/BrunoBmassa/Python-Actitivies/blob/main/Graficos_Plotly.ipynb\" target=\"_parent\"><img src=\"https://colab.research.google.com/assets/colab-badge.svg\" alt=\"Open In Colab\"/></a>"
      ]
    },
    {
      "cell_type": "code",
      "execution_count": 63,
      "metadata": {
        "colab": {
          "base_uri": "https://localhost:8080/",
          "height": 741
        },
        "id": "8jAt3Ilp8veX",
        "outputId": "4239acd4-fb46-4da7-d194-573d676169a1"
      },
      "outputs": [
        {
          "output_type": "stream",
          "name": "stderr",
          "text": [
            "Downloading...\n",
            "From: https://drive.google.com/uc?id=1dit9NB9hI4wKbU_zvGOZNRSTDPTK-dzx\n",
            "To: /content/ecommerce_estatistica.csv\n",
            "100%|██████████| 189k/189k [00:00<00:00, 50.5MB/s]\n"
          ]
        },
        {
          "output_type": "display_data",
          "data": {
            "text/plain": [
              "<IPython.core.display.Javascript object>"
            ],
            "application/javascript": [
              "(async (port, path, width, height, cache, element) => {\n",
              "    if (!google.colab.kernel.accessAllowed && !cache) {\n",
              "      return;\n",
              "    }\n",
              "    element.appendChild(document.createTextNode(''));\n",
              "    const url = await google.colab.kernel.proxyPort(port, {cache});\n",
              "    const iframe = document.createElement('iframe');\n",
              "    iframe.src = new URL(path, url).toString();\n",
              "    iframe.height = height;\n",
              "    iframe.width = width;\n",
              "    iframe.style.border = 0;\n",
              "    iframe.allow = [\n",
              "        'accelerometer',\n",
              "        'autoplay',\n",
              "        'camera',\n",
              "        'clipboard-read',\n",
              "        'clipboard-write',\n",
              "        'gyroscope',\n",
              "        'magnetometer',\n",
              "        'microphone',\n",
              "        'serial',\n",
              "        'usb',\n",
              "        'xr-spatial-tracking',\n",
              "    ].join('; ');\n",
              "    element.appendChild(iframe);\n",
              "  })(8050, \"/\", \"100%\", 650, false, window.element)"
            ]
          },
          "metadata": {}
        }
      ],
      "source": [
        "\n",
        "import pandas as pd\n",
        "import gdown\n",
        "import dash\n",
        "import plotly.express as px\n",
        "from dash import Dash, html, dcc\n",
        "\n",
        "url='https://drive.google.com/file/d/1dit9NB9hI4wKbU_zvGOZNRSTDPTK-dzx/view?usp=drive_link'\n",
        "\n",
        "# Extração do arquivo pela URL\n",
        "file_id = url.split('/')[-2]\n",
        "\n",
        "# Download do arquivo\n",
        "output_file = 'ecommerce_estatistica.csv'  # You can change the output filename\n",
        "gdown.download(id=file_id, output=output_file, quiet=False)\n",
        "\n",
        "#Criação da função\n",
        "def create_graphics(df):\n",
        "  #Grafico 1\n",
        "\n",
        "  #Histograma\n",
        "  fig1 = px.histogram(df, x='Preço', nbins=30, title='Histograma Preço', color_discrete_sequence=['blue'])\n",
        "  fig1.update_layout(\n",
        "      xaxis_title='Preço',\n",
        "      yaxis_title='Frequência'\n",
        "  )\n",
        "\n",
        "  #Grafico 2\n",
        "\n",
        "  #Dispersão\n",
        "  fig2 = px.scatter(df, x = 'Preço', y = 'Qtd_Vendidos_Cod', color = 'Gênero', hover_data=['Temporada'])\n",
        "  fig2.update_layout(\n",
        "      title='Dispersão Preço vs Qtd_Vendidos por Gênero',\n",
        "      xaxis_title='Preço',\n",
        "      yaxis_title='Quantidade de Vendidos'\n",
        "  )\n",
        "\n",
        "  #Grafico 3\n",
        "\n",
        "  #Bolha\n",
        "  fig3 = px.scatter(df, x='Preço', y='Qtd_Vendidos_Cod', color='Temporada', size='Qtd_Vendidos_Cod', hover_data=['Temporada'])\n",
        "  fig3.update_layout(\n",
        "      title='Dispersão Preço vs Qtd_Vendidos por Temporada',\n",
        "      xaxis_title='Preço',\n",
        "      yaxis_title='Quantidade de Vendidos',\n",
        "      legend_title='Temporada'\n",
        "  )\n",
        "\n",
        "  #Grafico 4\n",
        "\n",
        "  #Barras\n",
        "  fig4 = px.bar(df, x='Temporada', y='Qtd_Vendidos_Cod', color='Temporada', title='Quantidade de Produtos Vendidos por Temporada')\n",
        "  fig4.update_layout(\n",
        "      xaxis_title='Temporada',\n",
        "      yaxis_title='Quantidade de Produtos Vendidos',\n",
        "      legend_title='Temporada',\n",
        "      plot_bgcolor='rgba(222, 255, 253, 1)',\n",
        "      paper_bgcolor='rgba(186, 245, 241, 1)'\n",
        "  )\n",
        "\n",
        "  #Grafico 5\n",
        "\n",
        "  #Pizza\n",
        "  fig5 = px.pie(df, names='Temporada', title='Proporção de Produtos por temporada', color= 'Temporada')\n",
        "  fig5.update_traces(textposition='inside', textinfo='percent+label')\n",
        "\n",
        "\n",
        "  #Grafico 6\n",
        "\n",
        "  #3D\n",
        "  fig6 = px.scatter_3d(df, x='Preço', y = 'Qtd_Vendidos_Cod', z= 'Gênero', color='Gênero')\n",
        "  fig6.update_layout(\n",
        "      title='Dispersão Preço vs Qtd_Vendidos por Gênero',\n",
        "      xaxis_title='Preço',\n",
        "      yaxis_title='Quantidade de Vendidos',\n",
        "      legend_title='Gênero'\n",
        "  )\n",
        "\n",
        "  #Grafico 7\n",
        "\n",
        "  #Linha\n",
        "  fig7 = px.line(df, x='Preço', y='Qtd_Vendidos_Cod', color='Gênero', title='Quantidade de Produtos Vendidos por Gênero')\n",
        "  fig7.update_layout(\n",
        "      xaxis_title='Preço',\n",
        "      yaxis_title='Quantidade de Produtos Vendidos',\n",
        "      legend_title='Gênero',\n",
        "      plot_bgcolor='black',\n",
        "      paper_bgcolor='white'\n",
        "  )\n",
        "  return fig1, fig2, fig3, fig4, fig5, fig6, fig7\n",
        "\n",
        "#Criação do app\n",
        "def create_app(df):\n",
        "  app = dash.Dash(__name__)\n",
        "  fig1, fig2, fig3, fig4, fig5, fig6, fig7 = create_graphics(df)\n",
        "  app.layout = html.Div([\n",
        "      dcc.Graph(id='graphic1', figure=fig1),\n",
        "      dcc.Graph(id='graphic2', figure=fig2),\n",
        "      dcc.Graph(id='graphic3', figure=fig3),\n",
        "      dcc.Graph(id='graphic4', figure=fig4),\n",
        "      dcc.Graph(id='graphic5', figure=fig5),\n",
        "      dcc.Graph(id='graphic6', figure=fig6),\n",
        "      dcc.Graph(id='graphic7', figure=fig7)\n",
        "  ])\n",
        "  return app\n",
        "\n",
        "# Leitura do arquvio CSV usando pandas\n",
        "df = pd.read_csv(output_file)\n",
        "\n",
        "if __name__ == '__main__':\n",
        "#Executa o App\n",
        "  app = create_app(df)\n",
        "  app.run_server(debug=True)\n"
      ]
    },
    {
      "cell_type": "code",
      "source": [],
      "metadata": {
        "id": "CtESkcAWXjNK"
      },
      "execution_count": null,
      "outputs": []
    }
  ]
}
