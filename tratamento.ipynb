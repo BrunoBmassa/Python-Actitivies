{
  "nbformat": 4,
  "nbformat_minor": 0,
  "metadata": {
    "colab": {
      "provenance": [],
      "authorship_tag": "ABX9TyOtAP7dOpxQjt74r1A/Aby2",
      "include_colab_link": true
    },
    "kernelspec": {
      "name": "python3",
      "display_name": "Python 3"
    },
    "language_info": {
      "name": "python"
    }
  },
  "cells": [
    {
      "cell_type": "markdown",
      "metadata": {
        "id": "view-in-github",
        "colab_type": "text"
      },
      "source": [
        "<a href=\"https://colab.research.google.com/github/BrunoBmassa/Python-Actitivies/blob/main/tratamento.ipynb\" target=\"_parent\"><img src=\"https://colab.research.google.com/assets/colab-badge.svg\" alt=\"Open In Colab\"/></a>"
      ]
    },
    {
      "cell_type": "code",
      "source": [
        "!pip install pyspark"
      ],
      "metadata": {
        "id": "MCqHRY6W_tMp"
      },
      "execution_count": null,
      "outputs": []
    },
    {
      "cell_type": "code",
      "source": [
        "import pyspark\n",
        "import gdown\n",
        "from IPython import get_ipython\n",
        "from IPython.display import display\n",
        "from pyspark.sql import SparkSession\n",
        "from pyspark.sql.types import*\n",
        "from pyspark.sql.functions import date_format, col, count, when, regexp_extract\n",
        "from datetime import date\n",
        "from os.path import join"
      ],
      "metadata": {
        "id": "BBTWyUwE_vXH"
      },
      "execution_count": 56,
      "outputs": []
    },
    {
      "cell_type": "code",
      "source": [
        "spark= SparkSession.builder.getOrCreate()"
      ],
      "metadata": {
        "id": "2vtSbr3n_0tg"
      },
      "execution_count": 65,
      "outputs": []
    },
    {
      "cell_type": "code",
      "execution_count": null,
      "metadata": {
        "collapsed": true,
        "id": "DBxgu02H7hx-"
      },
      "outputs": [],
      "source": [
        "#Leia o arquivo ‘videos-stats.csv'  no dataframe 'df_video' com cabeçalho e inferindo o esquema\n",
        "df_video_url='https://drive.google.com/file/d/1XAefeuunm6q7o0OEdF--NzEPXTmIG9i5/view?usp=drive_link'\n",
        "# Extração do arquivo pela URL\n",
        "file_id = df_video_url.split('/')[-2]\n",
        "# Download do arquivo\n",
        "output_file = 'videos-stats.csv'\n",
        "gdown.download(id=file_id, output=output_file, quiet=False)\n",
        "#Leitura do arquivo inferindo o esquema\n",
        "df_video= spark.read.csv(output_file, header=True, inferSchema=True)\n",
        "df_video.printSchema()\n"
      ]
    },
    {
      "cell_type": "code",
      "source": [
        "#Altere os valores nulos dos campos 'Likes', 'Comments' e 'Views' para o valor 0\n",
        "\n",
        "df_video = df_video.fillna({'Likes': 0, 'Comments': 0, 'Views': 0})\n",
        "df_video.show()"
      ],
      "metadata": {
        "collapsed": true,
        "id": "UQBlwXJc_r7G"
      },
      "execution_count": null,
      "outputs": []
    },
    {
      "cell_type": "code",
      "source": [
        "#Leia o arquivo ‘comments.csv' no dataframe 'df_comentario' com cabeçalho e inferindo o esquema\n",
        "\n",
        "df_comentario_url='https://drive.google.com/file/d/1rW-4ufh6UqafMAeRrH1MVypHkS75lfFM/view?usp=drive_link'\n",
        "\n",
        "# Extração do arquivo pela URL\n",
        "file_id2 = df_comentario_url.split('/')[-2]\n",
        "\n",
        "# Download do arquivo\n",
        "output_file2 = 'comments.csv'\n",
        "gdown.download(id=file_id2, output=output_file2, quiet=False)\n",
        "\n",
        "#Leitura do arquivo\n",
        "df_comentario = spark.read.csv(output_file2, header=True, inferSchema=True)\n",
        "df_comentario.printSchema()"
      ],
      "metadata": {
        "collapsed": true,
        "id": "__qqkE9GWpQI"
      },
      "execution_count": null,
      "outputs": []
    },
    {
      "cell_type": "code",
      "source": [
        "#Calcule a quantidade de registros do df_video e df_comentario\n",
        "\n",
        "df_video_contagem  = df_video.count()\n",
        "df_comentario_contagem = df_comentario.count()\n",
        "\n",
        "print(\"Quantidade de registros em df_video:\", df_video_contagem)\n",
        "print(\"Quantidade de registros em df_comentario:\", df_comentario_contagem)"
      ],
      "metadata": {
        "id": "oxVLY062W-_v"
      },
      "execution_count": null,
      "outputs": []
    },
    {
      "cell_type": "code",
      "source": [
        "#Remova os registros do df_video e df_comentario quem possuem o campo 'Video ID' nulos e calcule novamente a quantidade de registros\n",
        "\n",
        "df_video = df_video.dropna(subset=['Video ID'])\n",
        "df_comentario = df_comentario.dropna(subset=['Video ID'])\n",
        "\n",
        "df_video_contagem  = df_video.count()\n",
        "df_comentario_contagem = df_comentario.count()\n",
        "\n",
        "print(\"Quantidade de registros em df_video:\", df_video_contagem)\n",
        "print(\"Quantidade de registros em df_comentario:\", df_comentario_contagem)"
      ],
      "metadata": {
        "id": "IfadOdD3ZikJ"
      },
      "execution_count": null,
      "outputs": []
    },
    {
      "cell_type": "code",
      "source": [
        "#Remova os registros apenas do df_video quem possuem o campo 'Video ID' duplicados\n",
        "\n",
        "df_video = df_video.dropDuplicates(['Video ID'])\n",
        "df_video_contagem  = df_video.count()\n",
        "\n",
        "print(\"Quantidade de registros em df_video:\", df_video_contagem)"
      ],
      "metadata": {
        "id": "kfnBJtkcfAtM"
      },
      "execution_count": null,
      "outputs": []
    },
    {
      "cell_type": "code",
      "source": [
        "#Converta os campos Likes, Comments e Views para 'int' no dataframe df_video\n",
        "\n",
        "df_video = df_video.withColumn(\"Likes\", df_video[\"Likes\"].cast(IntegerType()))"
      ],
      "metadata": {
        "id": "bG0x8ZYgfIq7"
      },
      "execution_count": 44,
      "outputs": []
    },
    {
      "cell_type": "code",
      "source": [
        "#Converta os campos Likes e Sentiment para 'int' no dataframe df_comentario, além disso, altere o nome do campo Likes para 'Likes Comment'\n",
        "\n",
        "df_comentario = df_comentario.withColumn(\"Likes\", df_comentario[\"Likes\"].cast(IntegerType()))\n",
        "df_comentario = df_comentario.withColumn(\"Sentiment\", df_comentario[\"Sentiment\"].cast(IntegerType()))\n",
        "df_comentario = df_comentario.withColumnRenamed(\"Likes\", \"Likes Comment\")"
      ],
      "metadata": {
        "id": "LdSaj77ofUTb"
      },
      "execution_count": 45,
      "outputs": []
    },
    {
      "cell_type": "code",
      "source": [
        "#Crie o campo 'Interaction' no dataframe df_video, com a soma dos campos Likes, Comments e Views\n",
        "\n",
        "df_video = df_video.withColumn(\"Interaction\", df_video[\"Likes\"] + df_video[\"Comments\"] + df_video[\"Views\"])\n",
        "print(df_video.show())"
      ],
      "metadata": {
        "collapsed": true,
        "id": "_ew6W0-UftJP"
      },
      "execution_count": null,
      "outputs": []
    },
    {
      "cell_type": "code",
      "source": [
        "#Converta os campos 'Published At' para 'date' no dataframe df_video\n",
        "\n",
        "df_video = df_video.withColumn(\"Published At\", df_video[\"Published At\"].cast(DateType()))"
      ],
      "metadata": {
        "id": "UQBBbMeFgIzw"
      },
      "execution_count": 47,
      "outputs": []
    },
    {
      "cell_type": "code",
      "source": [
        "#Crie o campo 'Year' no dataframe df_video, extraindo apenas o ano do campo 'Published At'\n",
        "\n",
        "df_video = df_video.withColumn(\"Year\", date_format(df_video[\"Published At\"], \"yyyy\"))"
      ],
      "metadata": {
        "id": "YoU3vrA9gTeM"
      },
      "execution_count": 48,
      "outputs": []
    },
    {
      "cell_type": "code",
      "source": [
        "\n",
        "#Mescle os dados df_comentario no dataframe df_video em relação ao campo Video ID e crie o dataframe df_join_video_comments\n",
        "\n",
        "mescla_video_comentario = join(\"df_video\", \"df_comentario\")\n",
        "df_join_video_comments = df_video.join(df_comentario, on=\"Video ID\", how=\"left\")\n"
      ],
      "metadata": {
        "id": "LM32QJo2_wI8"
      },
      "execution_count": 52,
      "outputs": []
    },
    {
      "cell_type": "code",
      "source": [
        "\n",
        "#Leia o arquivo ‘videos-stats.csv'  no dataframe 'df_video' com cabeçalho e inferindo o esquema\n",
        "df_us_videos_url='https://drive.google.com/file/d/1NmT0RoxSv9GSJ08qDIMdeRkwbsaXzJE_/view?usp=drive_link'\n",
        "# Extração do arquivo pela URL\n",
        "file_id3 = df_us_videos_url.split('/')[-2]\n",
        "# Download do arquivo\n",
        "output_file3 = 'USvideos.csv.csv'\n",
        "gdown.download(id=file_id3, output=output_file3, quiet=False)\n",
        "#Leitura do arquivo inferindo o esquema\n",
        "df_us_videos= spark.read.csv(output_file3, header=True, inferSchema=True)\n",
        "df_us_videos.printSchema()\n"
      ],
      "metadata": {
        "collapsed": true,
        "id": "nYzY_PG9Bl_V"
      },
      "execution_count": null,
      "outputs": []
    },
    {
      "cell_type": "code",
      "source": [
        "#Mescle os dados df_us_videos no dataframe df_video em relação ao campo Title e crie e visualize o dataframe df_join_video_usvideos\n",
        "\n",
        "mescla_us_videos_video = join(\"df_video\", \"df_us_videos\")\n",
        "df_join_video_usvideos = df_video.join(df_us_videos, on=\"Title\", how=\"left\")\n",
        "df_join_video_usvideos.show()\n"
      ],
      "metadata": {
        "collapsed": true,
        "id": "IspQ4o32CP8V"
      },
      "execution_count": null,
      "outputs": []
    },
    {
      "cell_type": "code",
      "source": [
        "#Verifique a quantidade de campos nulos em todos os campos do dataframe df_video\n",
        "\n",
        "df_video_nulos = df_video.select([count(when(col(c).isNull(), c)).alias(c) for c in df_video.columns])\n",
        "df_video_nulos.show()"
      ],
      "metadata": {
        "collapsed": true,
        "id": "9aYnaDXhDcx6"
      },
      "execution_count": null,
      "outputs": []
    },
    {
      "cell_type": "code",
      "source": [
        "#Remova a coluna '_c0' e salve o dataframe df_video como 'videos-tratados-parquet' no formato parquet e adicione o cabeçalho nos dados\n",
        "\n",
        "df_video = df_video.drop(\"_c0\")\n",
        "df_video.write.option('header','true').mode(\"overwrite\").parquet('videos-parquet')\n"
      ],
      "metadata": {
        "id": "HEm6HxQ0ENMZ"
      },
      "execution_count": 63,
      "outputs": []
    },
    {
      "cell_type": "code",
      "source": [
        "#Remova a coluna '_c0' e salve o dataframe df_join_video_comments como 'videos-comments-tratados-parquet' no formato parquet e adicione o cabeçalho nos dados\n",
        "\n",
        "df_join_video_comments = df_join_video_comments.drop(\"_c0\")\n",
        "df_join_video_comments.write.option('header','true').mode(\"overwrite\").parquet('videos-comments-parquet')"
      ],
      "metadata": {
        "collapsed": true,
        "id": "p7k2Lg4qFF4S"
      },
      "execution_count": null,
      "outputs": []
    }
  ]
}